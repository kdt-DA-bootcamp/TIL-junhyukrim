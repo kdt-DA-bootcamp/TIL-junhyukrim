{
 "cells": [
  {
   "cell_type": "code",
   "execution_count": 2,
   "metadata": {},
   "outputs": [],
   "source": [
    "import requests"
   ]
  },
  {
   "cell_type": "code",
   "execution_count": 3,
   "metadata": {},
   "outputs": [
    {
     "data": {
      "text/plain": [
       "(200, -1)"
      ]
     },
     "execution_count": 3,
     "metadata": {},
     "output_type": "execute_result"
    }
   ],
   "source": [
    "URL = 'http://www.cine21.com/rank/boxoffice/domestic'\n",
    "\n",
    "res = requests.get(URL, headers = {'User-Agent': \"Mozilla 5.0\"})\n",
    "res.status_code, res.text.find('보고타')"
   ]
  },
  {
   "cell_type": "code",
   "execution_count": 4,
   "metadata": {},
   "outputs": [
    {
     "name": "stdout",
     "output_type": "stream",
     "text": [
      "<div id=\"boxoffice_list_content\">\n",
      "</div>\n"
     ]
    }
   ],
   "source": [
    "from bs4 import BeautifulSoup\n",
    "\n",
    "soup = BeautifulSoup(res.text, 'html.parser')\n",
    "# Web 1은 빈 깡통 HTML을 보내준다.\n",
    "print( soup.select_one('#boxoffice_list_content') )"
   ]
  },
  {
   "cell_type": "code",
   "execution_count": 5,
   "metadata": {},
   "outputs": [
    {
     "data": {
      "text/plain": [
       "(200, 1074)"
      ]
     },
     "execution_count": 5,
     "metadata": {},
     "output_type": "execute_result"
    }
   ],
   "source": [
    "# Web2로 요청 보내는 방법을 확인. 개발자도구 - [Network]\n",
    "URL = 'http://www.cine21.com/rank/boxoffice/domestic_content'\n",
    "\n",
    "res = requests.post(URL, headers={\n",
    "    'content-type': 'application/x-www-form-urlencoded; charset=UTF-8'\n",
    "}, data={\n",
    "    'page': 1,\n",
    "    'genre': 'all',\n",
    "    'period': '2024-12-31'\n",
    "})\n",
    "\n",
    "res.status_code, res.text.find('보고타')"
   ]
  },
  {
   "cell_type": "code",
   "execution_count": 7,
   "metadata": {},
   "outputs": [
    {
     "name": "stdout",
     "output_type": "stream",
     "text": [
      "a태그 /movie/info/?movie_id=61175\n",
      "이미지 https://image.cine21.com/resize/cine21/poster/2025/0106/16_02_09__677b7ff1263c5[X224,320].jpg\n",
      "이름 하얼빈\n",
      "누적 누적관객수3,728,562\n",
      "a태그 /movie/info/?movie_id=57542\n",
      "이미지 https://image.cine21.com/resize/cine21/poster/2024/1231/11_21_12__67735518b0313[X224,320].jpg\n",
      "이름 보고타: 마지막 기회의 땅\n",
      "누적 누적관객수336,135\n",
      "a태그 /movie/info/?movie_id=56448\n",
      "이미지 https://image.cine21.com/resize/cine21/poster/2024/1205/15_02_07__675141dfba172[X224,320].jpg\n",
      "이름 소방관\n",
      "누적 누적관객수3,489,395\n",
      "a태그 /movie/info/?movie_id=61738\n",
      "이미지 https://image.cine21.com/resize/cine21/poster/2025/0102/13_55_23__67761c3b88ab6[X224,320].jpg\n",
      "이름 수퍼 소닉3\n",
      "누적 누적관객수204,739\n",
      "a태그 /movie/info/?movie_id=61853\n",
      "이미지 https://image.cine21.com/resize/cine21/poster/2024/1119/17_05_30__673c46ca60676[X224,320].jpg\n",
      "이름 뽀로로 극장판 바닷속 대모험\n",
      "누적 누적관객수201,416\n",
      "a태그 /movie/info/?movie_id=61487\n",
      "이미지 https://image.cine21.com/resize/cine21/poster/2024/1206/13_38_12__67527fb46971a[X224,320].jpg\n",
      "이름 무파사: 라이온 킹\n",
      "누적 누적관객수762,054\n",
      "a태그 /movie/info/?movie_id=61558\n",
      "이미지 https://image.cine21.com/resize/cine21/poster/2024/1128/13_37_57__6747f3a5f240c[X224,320].jpg\n",
      "이름 모아나 2\n",
      "누적 누적관객수3,433,796\n",
      "a태그 /movie/info/?movie_id=61854\n",
      "이미지 https://image.cine21.com/resize/cine21/poster/2024/1219/10_33_43__676377f7d4bd0[X224,320].jpg\n",
      "이름 극장판 짱구는 못말려: 우리들의 공룡일기\n",
      "누적 누적관객수651,895\n",
      "a태그 /movie/info/?movie_id=61119\n",
      "이미지 https://image.cine21.com/resize/cine21/poster/2024/1231/11_48_32__67735b808ba51[X224,320].jpg\n",
      "이름 시빌 워: 분열의 시대\n",
      "누적 누적관객수84,540\n",
      "a태그 /movie/info/?movie_id=61244\n",
      "이미지 https://image.cine21.com/resize/cine21/poster/2024/1125/18_01_54__67443d022a0ba[X224,320].jpg\n",
      "이름 위키드\n",
      "누적 누적관객수2,106,677\n",
      "a태그 /movie/info/?movie_id=2676\n",
      "이미지 https://image.cine21.com/resize/cine21/poster/2024/1206/14_53_23__675291532f8b6[X224,320].jpg\n",
      "이름 러브레터\n",
      "누적 누적관객수184,517\n",
      "a태그 /movie/info/?movie_id=61579\n",
      "이미지 https://image.cine21.com/resize/cine21/poster/2024/1212/10_03_46__675a36727fa85[X224,320].jpg\n",
      "이름 서브스턴스\n",
      "누적 누적관객수171,904\n",
      "a태그 /movie/info/?movie_id=61884\n",
      "이미지 https://image.cine21.com/resize/cine21/poster/2024/1206/14_37_53__67528db1514c9[X224,320].jpg\n",
      "이름 더 폴: 디렉터스 컷\n",
      "누적 누적관객수44,231\n",
      "a태그 /movie/info/?movie_id=28917\n",
      "이미지 https://image.cine21.com/resize/cine21/poster/2024/1217/13_23_25__6760fcbd5327a[X224,320].jpg\n",
      "이름 해리 포터와 죽음의 성물1\n",
      "누적 누적관객수2,895,092\n",
      "a태그 /movie/info/?movie_id=59945\n",
      "이미지 https://image.cine21.com/resize/cine21/poster/2024/1223/11_27_10__6768ca7e03525[X224,320].jpg\n",
      "이름 더 퍼스트 슬램덩크\n",
      "누적 누적관객수4,885,921\n",
      "a태그 /movie/info/?movie_id=61863\n",
      "이미지 https://image.cine21.com/resize/cine21/poster/2024/1122/17_46_55__674044ff8498d[X224,320].jpg\n",
      "이름 니코: 오로라 원정대의 모험\n",
      "누적 누적관객수56,859\n",
      "a태그 /movie/info/?movie_id=61860\n",
      "이미지 https://image.cine21.com/resize/cine21/poster/2024/1205/14_48_39__67513eb720ed9[X224,320].jpg\n",
      "이름 이처럼 사소한 것들\n",
      "누적 누적관객수42,894\n",
      "a태그 /movie/info/?movie_id=8724\n",
      "이미지 https://image.cine21.com/resize/cine21/poster/2015/0921/8724_55ffb3ebae83f_poster_web_main[X224,320].jpg\n",
      "이름 이터널 선샤인\n",
      "누적 누적관객수549,635\n",
      "a태그 /movie/info/?movie_id=61760\n",
      "이미지 https://image.cine21.com/resize/cine21/poster/2024/1217/14_36_33__67610de147ec2[X224,320].jpg\n",
      "이름 대가족\n",
      "누적 누적관객수301,214\n",
      "a태그 /movie/info/?movie_id=21799\n",
      "이미지 https://image.cine21.com/resize/cine21/movie/2024/1212/18_28_28__675aacbcc25be[X224,320].jpg\n",
      "이름 색, 계\n",
      "누적 누적관객수1,930,589\n"
     ]
    }
   ],
   "source": [
    "res.text # HTML 형태 -> 어떤 라이브러리?\n",
    "soup = BeautifulSoup(res.text, 'html.parser')\n",
    "\n",
    "movies = soup.select('.boxoffice_li')\n",
    "for movie in movies:\n",
    "    a_tag = movie.select_one('a')\n",
    "    img_tag = movie.select_one('img')\n",
    "    name_tag = movie.select_one('.mov_name')\n",
    "    num_tag = movie.select('.over>.info>li')[1]\n",
    "\n",
    "    print('a태그', a_tag.attrs['href'])\n",
    "    print('이미지', img_tag.attrs['src'])\n",
    "    print('이름', name_tag.text)\n",
    "    print('누적', num_tag.text)"
   ]
  },
  {
   "cell_type": "code",
   "execution_count": 38,
   "metadata": {},
   "outputs": [
    {
     "name": "stdout",
     "output_type": "stream",
     "text": [
      "[{'제목': '[서울창업디딤터] 대관신청 및 이용 매뉴얼', '날짜': '2024-03-25 11:22:48'}, {'제목': '[공고] 2024년 서울창업디딤터 시설관리 수행업체 우선협상 대상자 선정결과 공고', '날짜': '2024-12-09 13:56:34'}, {'제목': '[안전] 청소년이 꼭 알아야 할 불법촬영 범죄에 관한 A to Z', '날짜': '2024-12-02 15:24:23'}, {'제목': '[공사] 8/21~10/4 1층 전체 인테리어 공사 안내', '날짜': '2024-08-20 10:33:57'}, {'제목': '[공사] 서울창업디딤터 2층 운영지원실 조성공사 시행업체 공시', '날짜': '2024-05-07 16:06:34'}, {'제목': '[서울창업디딤터XNCI창업패키지사업단X대학혁신지원사업] 2023 서울 동북부 오픈이노베이션 창업지원 포럼 개최', '날짜': '2023-11-16 15:55:17'}, {'제목': '[서울창업디딤터] 캠퍼스타운X창업아카데미 모의 발표평가 컨설팅', '날짜': '2023-11-10 15:45:28'}, {'제목': '[서울창업디딤터] 제7회 창업아카데미 : IR 피칭 대비', '날짜': '2023-11-10 15:44:15'}, {'제목': '[창업교육·멘토링] 특강 창업아카데미 : 법률로 알아보는 스타트업 운영법 교육생 모집', '날짜': '2023-10-10 14:12:09'}, {'제목': '[소상공인 교육] 서울창업디딤터X서울신용보증재단 노원구 좌충우돌 청년창업 역량강화 코칭클래스 하반기 교육', '날짜': '2023-10-05 11:54:45'}, {'제목': '[창업교육·멘토링] 제6회 창업아카데미 : 국내 시장 진출-해외 시장 확장 노하우 교육생 모집', '날짜': '2023-10-04 13:50:38'}, {'제목': '[창업교육·멘토링] 제5회 창업아카데미 : 창업세계의 지식재산권과 권리 보호 교육생 모집', '날짜': '2023-10-04 13:47:43'}, {'제목': '[서울창업디딤터XNCI창업패키지사업단X대학혁신지원사업] 2023 딥테크 스타트업의 미래 전망  포럼', '날짜': '2023-09-13 19:29:54'}, {'제목': '[창업교육·멘토링] 제4회 개인에서 법인으로 스케일업 교육생 모집 안내', '날짜': '2023-08-04 16:28:20'}, {'제목': '[창업교육·멘토링] 제3회 투자자들이 좋아하는 기업 숫자 교육생 모집 안내', '날짜': '2023-08-04 16:24:07'}, {'제목': '[창업교육·멘토링] 제2회 정부지원 창업 도전 : 사업계획서 교육생 모집 안내', '날짜': '2023-06-27 16:46:01'}, {'제목': '[창업교육·멘토링] 제1회 창업새내기 : 직무전환/재창업/홍보·마케팅 교육생 모집 안내', '날짜': '2023-06-08 10:45:57'}, {'제목': '[공사] 5/20~6/20 화장실 리모델링 공사 안내', '날짜': '2023-05-19 09:44:06'}, {'제목': '[서울창업디딤터] 2022년 서울창업디딤터 입주기업 홍보 책자', '날짜': '2022-12-23 16:30:13'}, {'제목': '[서울창업디딤터] 광운대학교 산학협력단 직원 채용 공고', '날짜': '2022-12-07 13:36:52'}, {'제목': '[BI 추가모집] 2022년 서울창업디딤터 BI 입주기업 모집', '날짜': '2022-11-28 11:31:26'}, {'제목': '2022년 서울창업디딤터 데모데이(DEMO DAY)', '날짜': '2022-11-18 11:46:47'}, {'제목': '[서울창업디딤터] 2022년 카페 운영사업자 공모 안내 (~11/29, 화)', '날짜': '2022-11-16 11:25:54'}, {'제목': '2022년 서울창업디딤터 에듀테크 입주기업 추가 모집', '날짜': '2022-08-31 09:49:41'}, {'제목': '[서울창업디딤터] 2021년 PRE-BI 입주기업 추가 모집 공고 (~8/13,14시)', '날짜': '2021-08-03 14:13:25'}, {'제목': '사회적 거리두기 수도권 2단계, 비수도권 1.5단계 2주간 유지(3/29 ~ 4/11)', '날짜': '2021-04-06 11:24:54'}, {'제목': '사회적 거리두기 수도권 2단계, 비수도권 1.5단계 하향 조정', '날짜': '2021-03-10 17:26:20'}]\n"
     ]
    }
   ],
   "source": [
    "import requests\n",
    "from bs4 import BeautifulSoup\n",
    "import json\n",
    "\n",
    "pages= [0,1,2]\n",
    "results=[]\n",
    "for page in pages:\n",
    "    URL='http://didimteo.startup-plus.kr/api/cportal/board?size=10&page={}&portalSeqNo=327&boardId=B000125&title='.format(page)\n",
    "    \n",
    "    response=requests.get(URL)\n",
    "    res_json=json.loads(response.text)\n",
    "    \n",
    "    \n",
    "    for i in range(0,len(res_json['data']['contents'])):\n",
    "        results.append({'제목':res_json['data']['contents'][i]['title'],'날짜':res_json['data']['contents'][i]['createDateTime']})\n",
    "    \n",
    "print(results)\n",
    "\n",
    "    \n",
    "    # soup=BeautifulSoup(response.text, 'html.parser')\n",
    "    # tbody_tag=soup.select_one('tbody')\n"
   ]
  },
  {
   "cell_type": "code",
   "execution_count": 58,
   "metadata": {},
   "outputs": [
    {
     "name": "stdout",
     "output_type": "stream",
     "text": [
      "[{'brand': '닉앤니콜', 'goodsname': 'WRINKLE NICOLE LABEL SLEEVE SHIRT_SKY BLUE', 'price': 98000, 'sales': 88200}, {'brand': '메이노브1722', 'goodsname': 'MB SURFING T-SHIRTS - WHITE', 'price': 48000, 'sales': 33600}, {'brand': '엑시아', 'goodsname': '버블파워 반팔티 E04BRD_ABX10210', 'price': 32000, 'sales': 32000}, {'brand': '가넷옴므', 'goodsname': 'GBS31207 블루 세미 와이드 카라 레귤러핏 솔리드 셔츠', 'price': 80000, 'sales': 32000}, {'brand': '노운베러', 'goodsname': 'Basic soft lyocell T-shirt_Sky blue', 'price': 45000, 'sales': 45000}, {'brand': '패블러스아카이브', 'goodsname': '우먼즈 베어프렌즈 릴렉스 크롭티 화이트그린(FCC2TS386W)', 'price': 45000, 'sales': 24700}, {'brand': '포더핏', 'goodsname': '로고 피그먼트 오버핏 스웨트 셔츠_네이비', 'price': 59900, 'sales': 59900}, {'brand': '구찌', 'goodsname': '웹 카라 코튼 피케 반소매 폴로 셔츠 - 블랙 / 701735XJELJ1043', 'price': 870000, 'sales': 566990}, {'brand': '팬쇼', 'goodsname': 'CACTUS FLOWER SHORT SLEEVE - MUSTARD', 'price': 32900, 'sales': 32900}, {'brand': '노운베러', 'goodsname': 'Wide stripe light cotton shirt_Skyblue', 'price': 103000, 'sales': 103000}, {'brand': '코치', 'goodsname': '시그니처 니트 크루넥 CT065 O1H', 'price': 650000, 'sales': 390000}, {'brand': '카멜워크', 'goodsname': '실루엣 반팔티셔츠(오션블루)', 'price': 32000, 'sales': 29000}, {'brand': '블레티', 'goodsname': 'Green Rabbit Art Work Printing Overfit T-shirt (Black)', 'price': 59000, 'sales': 29500}, {'brand': '폴루션', 'goodsname': 'GEOGRAPHY GRAPHIC TEE', 'price': 29000, 'sales': 20300}, {'brand': '에잇세컨즈', 'goodsname': '후로피 그래픽 티셔츠  핑크 (324542LY2X)', 'price': 29900, 'sales': 17940}, {'brand': '엘런아크', 'goodsname': '베이직 터크 하프 티셔츠_핑크', 'price': 73000, 'sales': 65700}, {'brand': '오아이오아이 컬렉션', 'goodsname': '오버레이 우먼즈 티셔츠 핑크', 'price': 42000, 'sales': 29400}, {'brand': '문페어리', 'goodsname': 'MF MOON STAR RAGLAN CROP TEE-PINK', 'price': 38000, 'sales': 34200}, {'brand': '유씨엘에이', 'goodsname': 'UCLA 베어 빅 로고 반팔티셔츠(UA6ST8A)', 'price': 59000, 'sales': 19000}, {'brand': '이지오', 'goodsname': 'Graphic T-Shirt_Mint Dice', 'price': 75000, 'sales': 75000}, {'brand': '넷소셜클럽', 'goodsname': 'PHONE ADS TEE (WHITE)', 'price': 43000, 'sales': 29240}, {'brand': '유씨엘에이', 'goodsname': '슬리브리스 머슬 티셔츠 (UX6ST31_31)', 'price': 49000, 'sales': 19000}, {'brand': '오오엠엘', 'goodsname': '피그먼트 로고 반팔 티셔츠 (블루)', 'price': 40900, 'sales': 25900}, {'brand': '상상발전소', 'goodsname': '블라 블라 01_CRCT', 'price': 35000, 'sales': 24500}, {'brand': '메이노브1722', 'goodsname': 'Maynov Pattern Signature Overfit Pigment T-Shirt - Blue', 'price': 48000, 'sales': 33600}, {'brand': '아노에틱', 'goodsname': 'ANC GOLD LOGO DAILY TEE_YELLOW', 'price': 42000, 'sales': 39900}, {'brand': '오언더알', 'goodsname': '여성용 오알 깃발 티셔츠 [아이보리]', 'price': 49000, 'sales': 22900}, {'brand': '크림소다랩', 'goodsname': 'LAB 플라워 크림 반팔티 아이보리', 'price': 42000, 'sales': 18900}, {'brand': '논로컬', 'goodsname': 'Classic Two Pocket Shirt - Beige', 'price': 98000, 'sales': 93100}, {'brand': '카멜워크', 'goodsname': '87넘버 어센틱 반팔티셔츠(화이트)', 'price': 32000, 'sales': 29000}, {'brand': '스텝온리', 'goodsname': 'MECHELEN TEE (NAVY)', 'price': 38000, 'sales': 26600}, {'brand': '메이킷투', 'goodsname': '[URBAN LETTERING] CREW NECK TEE_MINT', 'price': 49000, 'sales': 34300}, {'brand': '오리지널데이', 'goodsname': 'Love in Flower 반팔 티셔츠 [핑크]', 'price': 46000, 'sales': 26900}, {'brand': '어뉴브로스', 'goodsname': '아페토 반팔티 [핑크]', 'price': 38900, 'sales': 22900}, {'brand': '유씨엘에이', 'goodsname': 'UCLA B로고 반팔티셔츠(UA6ST6A)', 'price': 59000, 'sales': 19000}, {'brand': '마티올라', 'goodsname': 'TRIPLE BUD LOGO TEE NAVY', 'price': 48000, 'sales': 17000}, {'brand': '컴젠', 'goodsname': '베이직 롱슬리브 셔츠 NAES2-MRC100_730', 'price': 199000, 'sales': 139300}, {'brand': '키네토', 'goodsname': '우먼 링클 엠보스 오픈 칼라 셔츠_화이트', 'price': 145000, 'sales': 145000}, {'brand': '반원 아틀리에', 'goodsname': 'A3487 에센셜 레귤러핏 티셔츠_Black', 'price': 31000, 'sales': 31000}, {'brand': '이모션플래닛', 'goodsname': '러브 2 티셔츠(화이트)', 'price': 29000, 'sales': 29000}, {'brand': '그레이버', 'goodsname': '[UNISEX]스몰 라인 드로잉스마일 반팔티_블랙/옐로우 로고', 'price': 42800, 'sales': 29960}, {'brand': '컴젠', 'goodsname': 'comgen 레터링 티셔츠 WHITE NADU5-WKS610_110', 'price': 79000, 'sales': 39500}, {'brand': '이지오', 'goodsname': 'Graphic T-Shirt_Mint Eagle', 'price': 75000, 'sales': 75000}, {'brand': '넷소셜클럽', 'goodsname': 'CLASSIC CURLY TEE (WHITE)', 'price': 43000, 'sales': 29240}, {'brand': '골든베어', 'goodsname': '[Unisex] Baseball Logo T-shirt_G4TAM24141WHX', 'price': 88000, 'sales': 61600}, {'brand': '심플레트로', 'goodsname': 'SR_Casual commuter suit sleeveless top', 'price': 114000, 'sales': 114000}, {'brand': '폴루션', 'goodsname': '3D LOGO HALF SLV T', 'price': 29000, 'sales': 20300}, {'brand': '스텝어라운드', 'goodsname': 'Loose fit wool tencel top_CHARCOAL', 'price': 49000, 'sales': 46550}, {'brand': '코텔로', 'goodsname': 'Handembroidered PK TShirt  White', 'price': 79000, 'sales': 39500}, {'brand': '끌레', 'goodsname': '오버사이즈 로고 엠브로이더드 티셔츠_화이트', 'price': 43000, 'sales': 43000}, {'brand': '크림소다랩', 'goodsname': 'LAB 씨알 빅 스카이 박스 반팔티 아이보리', 'price': 39000, 'sales': 18900}, {'brand': '카멜워크', 'goodsname': '빅 할로우 로고 반팔티셔츠(화이트)', 'price': 32000, 'sales': 29000}, {'brand': '메이노브1722', 'goodsname': 'STITCH COLORING T-SHIRTS - NAVY', 'price': 48000, 'sales': 33600}, {'brand': '애드호크', 'goodsname': '남성 원 포켓 세미 루즈 핏 반팔 셔츠 (O-WHITE) (HA4SS02-33)', 'price': 89000, 'sales': 59000}, {'brand': '엔티에프피', 'goodsname': 'triangle T-SHIRT (PURPLE) NFP18053STPU', 'price': 42000, 'sales': 21000}, {'brand': '상상발전소', 'goodsname': '라이프 이즈 어 저니_CRCT', 'price': 35000, 'sales': 35000}, {'brand': '오리지널데이', 'goodsname': 'Original travel 반팔 티셔츠 [핑크]', 'price': 39000, 'sales': 26900}, {'brand': '로시로우', 'goodsname': 'L&R Patch Point Short-Sleeved T-Shirt White', 'price': 39000, 'sales': 35100}, {'brand': '포더핏', 'goodsname': '크랙 피그먼트 오버핏 스웨트 셔츠_네이비', 'price': 59900, 'sales': 59900}, {'brand': '컬러블라인드', 'goodsname': '만트라 긴팔티셔츠 화이트', 'price': 58000, 'sales': 43800}, {'brand': '유씨엘에이', 'goodsname': '남여공용 코튼 베이직 아트웍 반팔 티셔츠[WHITE](UA4ST96_31)', 'price': 49000, 'sales': 19000}, {'brand': '블랙블론드', 'goodsname': '비비디 오큘러스 로고 티셔츠 (화이트)', 'price': 48000, 'sales': 48000}, {'brand': '플리즈프로젝트', 'goodsname': 'LOOSE STRIPE LONG SLEEVE, BLUE', 'price': 59000, 'sales': 59000}, {'brand': '한량', 'goodsname': 'HR Misulgwan short tshirt red 미술관 레드 반팔티셔츠', 'price': 36000, 'sales': 36000}, {'brand': '스웻레이블', 'goodsname': '하프집업 로고 스웨트(SLF3-MT003A)', 'price': 35900, 'sales': 14900}, {'brand': '밥캣', 'goodsname': '머신 캡슐라인 워터펌프 티셔츠 - 블루', 'price': 89000, 'sales': 39000}, {'brand': '폴루션', 'goodsname': 'Poster Half T-Shirt(PUNCMTS012_WH)', 'price': 39000, 'sales': 27300}, {'brand': '닉앤니콜', 'goodsname': 'NICOLE BASIC SLIM TOP_SORA', 'price': 39000, 'sales': 39000}, {'brand': '리엔드코', 'goodsname': 'Hello Tee S/P (일반 사이즈 포함)', 'price': 39000, 'sales': 27300}, {'brand': '스트라이크', 'goodsname': '레터링 도트 오버핏 티셔츠 (NEON GREEN-BLACK)', 'price': 67000, 'sales': 67000}, {'brand': '컴젠', 'goodsname': '민소매 크루넥 탑 NAEU4-WKS020_110', 'price': 79000, 'sales': 55300}, {'brand': '러브어스유', 'goodsname': 'Pinot short-sleeved T-shirt (dust blue)', 'price': 41000, 'sales': 41000}, {'brand': '낫유즈얼', 'goodsname': 'nu심볼 반팔티 [WHITE]', 'price': 41900, 'sales': 24900}, {'brand': '에잇세컨즈', 'goodsname': '집업 칼라 반소매 티셔츠  화이트 (324342LY51)', 'price': 44900, 'sales': 26940}, {'brand': '크림소다랩', 'goodsname': '씨알에스디엘 스포츠 파쿠 반팔티 화이트블루', 'price': 42000, 'sales': 20900}, {'brand': '어뉴브로스', 'goodsname': '아페토 반팔티 [그레이]', 'price': 38900, 'sales': 22900}, {'brand': '앳 더 모먼트', 'goodsname': '[KIWI]LOOSE FIT 라운드 넥 반팔티_민트', 'price': 49000, 'sales': 34300}, {'brand': '아르스 콘택트', 'goodsname': 'AC1704 티셔츠', 'price': 43000, 'sales': 43000}, {'brand': '쿨트', 'goodsname': 'AURORA REFLECTIVE LS T-SHIRT WHITE', 'price': 49000, 'sales': 49000}, {'brand': '컴젠', 'goodsname': '로고 배색 티셔츠 NAEU5-WKS320_110', 'price': 79000, 'sales': 55300}, {'brand': '상상발전소', 'goodsname': '트라이앵글 서프_CRCT', 'price': 35000, 'sales': 35000}, {'brand': '아노에틱', 'goodsname': 'BASIC TURTLENECK TOP_BLUE', 'price': 75000, 'sales': 75000}, {'brand': '에잇볼륨', 'goodsname': 'EV 오버핏 퍼플 반팔티', 'price': 24900, 'sales': 24900}, {'brand': '로우타이드', 'goodsname': 'RUCHED OFF SHOULDER TOP [WHITE]', 'price': 74000, 'sales': 62900}, {'brand': '포더핏', 'goodsname': '피그먼트 오버핏 스웨트 셔츠_네이비', 'price': 56900, 'sales': 56900}, {'brand': '클렛', 'goodsname': '디던트 하프 티 (옐로우)', 'price': 32000, 'sales': 22400}, {'brand': '리스펙트', 'goodsname': '서핑 반팔티 (머스타드)', 'price': 39000, 'sales': 19500}, {'brand': '한량', 'goodsname': 'HR® 0016 hey short sleeved tshirt lightyellow반팔', 'price': 35000, 'sales': 35000}, {'brand': '피스메이커', 'goodsname': 'PIECE LOVE PEACE TEE (PINK)', 'price': 35000, 'sales': 35000}, {'brand': '티니타이거', 'goodsname': 'The year of TeenyTiger Short Sleeve T-shirts', 'price': 39000, 'sales': 39000}, {'brand': '왕관', 'goodsname': '로고 베이직 오버핏 반팔 티셔츠 화이트 (White)', 'price': 35000, 'sales': 24500}, {'brand': '어썸어스', 'goodsname': '(23SS)AWESOMEEARTH 크롭 반팔 티셔츠 화이트', 'price': 27930, 'sales': 27930}, {'brand': '느와', 'goodsname': 'Lucid Top', 'price': 59000, 'sales': 23600}, {'brand': '크림소다랩', 'goodsname': '연애시대 반팔티 라이트그레이 블랙', 'price': 39000, 'sales': 18900}, {'brand': '메이노브1722', 'goodsname': 'Four-Frame Signature Overfit Pigment T-Shirt - LightGray', 'price': 48000, 'sales': 33600}, {'brand': '네버엔딩러버스', 'goodsname': '퓨어 러브 반소매 티셔츠 딥블루', 'price': 39000, 'sales': 26520}, {'brand': '애드호크', 'goodsname': '남여공용 베이직 긴팔 크루넥 티셔츠 (M-GREY) (HA2LT92-51)', 'price': 59000, 'sales': 29500}, {'brand': '크림소다랩', 'goodsname': '모토 캠프 반팔티 화이트 블랙', 'price': 42000, 'sales': 20900}, {'brand': '낫유즈얼', 'goodsname': '샤이캣 반팔티 [WHITE]', 'price': 44900, 'sales': 27900}, {'brand': '그레이버', 'goodsname': '[UNISEX]스몰 매치 플라워 스마일 반팔티_화이트', 'price': 42800, 'sales': 29960}, {'brand': '트립션', 'goodsname': 'Defense Bear 그래픽 티셔츠 - 레드', 'price': 59000, 'sales': 28900}, {'brand': '303피플즈', 'goodsname': 'STS22010 에센셜 로고 티셔츠 옐로우', 'price': 42000, 'sales': 42000}, {'brand': '카부', 'goodsname': '말린 - Off White', 'price': 52000, 'sales': 52000}, {'brand': '리엔드코', 'goodsname': 'Dixie Tee White', 'price': 39000, 'sales': 27300}, {'brand': '이티씨이', 'goodsname': 'PROTOTYPE HENLEY NECK WAFFLE KNIT (BLACK)', 'price': 119000, 'sales': 119000}, {'brand': '상상발전소', 'goodsname': '더블인텐션 01_CRCT', 'price': 35000, 'sales': 35000}, {'brand': '리복', 'goodsname': '빅 슬로건 티셔츠 - 라이트 그린', 'price': 49000, 'sales': 49000}, {'brand': '커버라이즈', 'goodsname': 'REVERSE ARCH LOGO TEE (WHITE)', 'price': 35000, 'sales': 24500}, {'brand': '어굿데이', 'goodsname': '[UNISEX] 시티 오브 엘에이 반팔티셔츠', 'price': 39000, 'sales': 29000}, {'brand': '오리지널데이', 'goodsname': 'Original Color Font 반팔 티셔츠 화이트[블루]', 'price': 49000, 'sales': 28900}, {'brand': '컴젠', 'goodsname': '스트링 크롭 블라우스 NAEU5-WRC540_390', 'price': 219000, 'sales': 153300}, {'brand': '로시로우', 'goodsname': 'ENJAIM lossy U-neck White', 'price': 43000, 'sales': 43000}, {'brand': '스트리트 스탠다드', 'goodsname': 'S-EDITION S/SLV T-SHIRTS', 'price': 29000, 'sales': 20300}, {'brand': '엑시아', 'goodsname': '베이직 로고 반팔티 E04BRD_ABX10207', 'price': 31000, 'sales': 31000}, {'brand': '한량', 'goodsname': 'HR®  0009 right short sleeved tshirt yellow 반팔', 'price': 35000, 'sales': 35000}, {'brand': '애드호크', 'goodsname': '남성 쿠션지 반팔 라운드 티셔츠 (M-GREY) (HA4ST21-51)', 'price': 69000, 'sales': 29000}, {'brand': '닉앤니콜', 'goodsname': 'NICK NICOLE CHUNKY CROP TOP_WHITE', 'price': 44000, 'sales': 44000}, {'brand': '유스크루', 'goodsname': 'YK 나리 티셔츠-화이트', 'price': 35000, 'sales': 31500}, {'brand': '뉴해빗', 'goodsname': 'N/H HABIT OF RIDING 오버핏 기모 후드_화이트 (SOH4-4NH1198)', 'price': 63000, 'sales': 43900}, {'brand': '프라우드 마리', 'goodsname': 'PM_Pleated round neck shirt', 'price': 138000, 'sales': 138000}, {'brand': '카멜워크', 'goodsname': '바스켓볼 플레이어 반팔티셔츠(네이비)', 'price': 32000, 'sales': 29000}, {'brand': '유씨엘에이', 'goodsname': '브루인스 아치 아트워크 후디[MINT](UXBLTAA_61)', 'price': 79000, 'sales': 39000}, {'brand': '상상발전소', 'goodsname': '에곤 쉴레 - 러시안 프리즈너_WHCT', 'price': 35000, 'sales': 24500}, {'brand': '리버클래시', 'goodsname': '[23FW] LJW41215 옐로우 오버핏 돌먼슬리브 맨투맨', 'price': 99000, 'sales': 99000}, {'brand': '하이파이브', 'goodsname': '리브 숏 슬리브 탑', 'price': 46000, 'sales': 32000}, {'brand': '스트라이크', 'goodsname': '리버설 스몰 로고 티셔츠 (AQUA)', 'price': 47000, 'sales': 47000}, {'brand': '아노에틱', 'goodsname': 'SEE-THROUGH T-SHIRT_IVORY', 'price': 65000, 'sales': 61750}, {'brand': '비치스앤크림', 'goodsname': 'LAUREL EST2023 SHORT SLEEVES-CHARCOAL', 'price': 38000, 'sales': 26600}, {'brand': '엠포리오 아르마니 언더웨어', 'goodsname': '남성 로고 프린티드 코튼 티셔츠_다크 블루_0814114018', 'price': 149000, 'sales': 89400}, {'brand': '메이킷투', 'goodsname': '[MAKE] CREW NECK TEE_BLACK', 'price': 49000, 'sales': 34300}, {'brand': '어썸어스', 'goodsname': '(23SS)Lazy Bear 반팔 티셔츠 화이트', 'price': 28000, 'sales': 28000}, {'brand': '이올로', 'goodsname': '우먼 베이직 코튼 셔츠_화이트', 'price': 168000, 'sales': 168000}, {'brand': '벤들스', 'goodsname': '스티커 티셔츠 하프 - 네이비', 'price': 37200, 'sales': 26000}, {'brand': '에스이에스티', 'goodsname': 'ADVENTURE  반팔 티셔츠 - 블랙', 'price': 43000, 'sales': 25900}, {'brand': '크림소다랩', 'goodsname': '올드 씨엘 반팔티 화이트 블랙', 'price': 42000, 'sales': 20900}, {'brand': '어뉴브로스', 'goodsname': '아페토 반팔티 [네이비]', 'price': 38900, 'sales': 22900}, {'brand': '낫유즈얼', 'goodsname': '차일디시어스 반팔티 [WHITE]', 'price': 55900, 'sales': 38900}, {'brand': '이스케이프프롬', 'goodsname': '핑크 라이더 버니 티셔츠 화이트', 'price': 52000, 'sales': 19900}, {'brand': '유씨엘에이', 'goodsname': 'BRUINS 부클 패치 스웨트셔츠[DK-NAVY](UXALTA4_47)', 'price': 99000, 'sales': 29000}, {'brand': '에스티코', 'goodsname': '조직물 카라넥 티셔츠 (핑크)', 'price': 49900, 'sales': 49900}, {'brand': '틸아이다이', 'goodsname': 'Cubic point angora mixed cardigan_Pink', 'price': 130000, 'sales': 130000}, {'brand': '상상발전소', 'goodsname': 'VANITAS 03_WHCM', 'price': 55000, 'sales': 55000}, {'brand': '메이노브1722', 'goodsname': 'Cleaning Day MTM - Black', 'price': 59000, 'sales': 29500}, {'brand': '위씨', 'goodsname': 'Les Chats 오버핏 반팔티셔츠 (WS001) 화이트', 'price': 39000, 'sales': 18900}, {'brand': '리엔드코', 'goodsname': '[W] Hello Tee White', 'price': 39000, 'sales': 27300}, {'brand': '커버라이즈', 'goodsname': 'STARLIGHT OVAL TEE (WHITE)', 'price': 35000, 'sales': 24500}, {'brand': '그루브스텝', 'goodsname': 'Screet 시크릿 오버핏 반팔 티셔츠 S0017', 'price': 49800, 'sales': 29880}, {'brand': '페이드', 'goodsname': 'PD 스몰 하트 오버핏 반팔티 블랙', 'price': 33000, 'sales': 26000}, {'brand': '바켄', 'goodsname': '[여성]Flower emblem 반팔티셔츠 BK3994_화이트', 'price': 59900, 'sales': 39900}, {'brand': '스웻레이블', 'goodsname': '[SET] 미드나잇 풋볼티 셋업(SLG2-ST001A)', 'price': 66000, 'sales': 15900}, {'brand': '한량', 'goodsname': 'HR dog short yellow 개박사 옐로우 반팔티셔츠', 'price': 36000, 'sales': 36000}, {'brand': '스텝온리', 'goodsname': 'RUNING SMALL LOGO TEE (WHITE-BLACK)', 'price': 43000, 'sales': 30100}, {'brand': '엠더바스', 'goodsname': 'sublime 오버핏 스웨트셔츠 -네이비', 'price': 62000, 'sales': 33900}, {'brand': '몬스터리퍼블릭', 'goodsname': '비트코인 바이브 비비드핑크 화이트 티셔츠', 'price': 59000, 'sales': 27000}, {'brand': '팔랩', 'goodsname': '남여공용 에센셜 소매 포인트 오버핏 반팔 티셔츠_PL24S5TS007_WT', 'price': 49900, 'sales': 22900}, {'brand': '카멜워크', 'goodsname': '밀레니엄 오리지날 반팔티셔츠(네이비)', 'price': 32000, 'sales': 29000}, {'brand': '에잇볼륨', 'goodsname': 'EV 스타 엠블램 화이트 티', 'price': 25000, 'sales': 25000}, {'brand': '르아위', 'goodsname': 'JAEYI-H TSHIRT purple', 'price': 59000, 'sales': 41300}, {'brand': '엘라모', 'goodsname': '슈팅스타 반팔티셔츠 남녀공용 빅사이즈 S~4XL', 'price': 23760, 'sales': 23760}, {'brand': '오우오', 'goodsname': '먼트크롭T', 'price': 39000, 'sales': 39000}, {'brand': '상상발전소', 'goodsname': '빈티지 서커스 06_WHCH', 'price': 60000, 'sales': 42000}, {'brand': '리이', 'goodsname': 'GRAPHIC LOGO T SHIRT', 'price': 72000, 'sales': 68400}, {'brand': '어썸스튜디오', 'goodsname': '[SET] 3종 세트 그래픽 반팔 티셔츠', 'price': 105000, 'sales': 45000}, {'brand': '카네이테이', 'goodsname': 'WEST POINT N.Y. NYLON JERSY (NAVY)', 'price': 83000, 'sales': 83000}, {'brand': '비치스앤크림', 'goodsname': 'MULTI COLOR SHORT SLEEVES-CHARCOAL', 'price': 38000, 'sales': 26600}, {'brand': '트립션', 'goodsname': 'DAISY PIN GRAPHIC 티셔츠 - 레드', 'price': 59000, 'sales': 34500}, {'brand': '앨빈클로', 'goodsname': '연어 오버핏 반팔티 AST3761 (2 COLOR)', 'price': 24900, 'sales': 24900}, {'brand': '스트리트 스탠다드', 'goodsname': 'S-EDITION S/SLV T-SHIRTS', 'price': 29000, 'sales': 20300}, {'brand': '닉앤니콜', 'goodsname': 'NICK NICOLE CHUNKY CROP TOP_LIGHT BEIGE', 'price': 44000, 'sales': 44000}, {'brand': '르바', 'goodsname': 'Levar Portrait Half T-shirt - Off White', 'price': 65000, 'sales': 65000}, {'brand': '어썸어스', 'goodsname': 'WALKING BLACK CAT 반팔 티셔츠 화이트', 'price': 28000, 'sales': 28000}, {'brand': '모즈모즈', 'goodsname': '스탠다드 특양면 반팔티셔츠_라임', 'price': 35900, 'sales': 35900}, {'brand': '유씨엘에이', 'goodsname': '반집업 스웨터[BROWN](UYBLK10_55)', 'price': 79000, 'sales': 29000}, {'brand': '스텝온리', 'goodsname': 'DOGGY TEE (YELLOW)', 'price': 39000, 'sales': 31200}, {'brand': '크림소다랩', 'goodsname': '캠핑 클럽 반팔티 화이트 라임', 'price': 42000, 'sales': 20900}, {'brand': '커버낫', 'goodsname': 'C 로고 맨투맨 피치', 'price': 59000, 'sales': 41900}, {'brand': '슈엣뜨 샤폐', 'goodsname': '슈샤 로고 오버사이즈 반팔티 C518TS005-WT', 'price': 40000, 'sales': 16000}, {'brand': '유씨엘에이', 'goodsname': '오리지널 로고 라운드넥 스웨터[R-BLUE](UY1LK02_14)', 'price': 79000, 'sales': 25000}, {'brand': '디프', 'goodsname': '쓰리디넘버 반팔티 [네이비]', 'price': 40900, 'sales': 23900}, {'brand': '아스트랄 프로젝션', 'goodsname': '레터링 로고  엠블럼 라운드 넥  15수 면 반팔 티셔츠_블루그린', 'price': 39000, 'sales': 19500}, {'brand': '낫유즈얼', 'goodsname': '레드라인 반팔티 [WHITE MELANGE]', 'price': 45900, 'sales': 28900}, {'brand': '엘런아시', 'goodsname': '타이거 기본 오버핏 반팔 티셔츠', 'price': 27800, 'sales': 27800}, {'brand': '아르마니 익스체인지', 'goodsname': '남성 미니 로고 슬림 티셔츠 _라이트 블루_A414130103', 'price': 90000, 'sales': 54000}, {'brand': '모뉴먼트', 'goodsname': '애프터 로고 티셔츠 (라이트멜란지)', 'price': 34000, 'sales': 17000}, {'brand': '리플레인', 'goodsname': 'POPLIN COMBI SHIRT', 'price': 178000, 'sales': 178000}, {'brand': '컴젠', 'goodsname': '소프트 롱슬리브 티셔츠 NAES1-MKL310_580', 'price': 89000, 'sales': 62300}, {'brand': '밴웍스', 'goodsname': '[SET] MINI SITTING BEAR 오버핏 반팔 티셔츠(VNDTS215S)', 'price': 63800, 'sales': 27400}, {'brand': '상상발전소', 'goodsname': 'VANITAS 05_WHCM', 'price': 55000, 'sales': 55000}, {'brand': '앤드 뉴스탠다드', 'goodsname': '네오 파라다이스 티셔츠 (화이트)', 'price': 34000, 'sales': 18000}, {'brand': '컴젠', 'goodsname': '로고 크롭 티셔츠 NAEU5-WKS330_550', 'price': 79000, 'sales': 55300}, {'brand': '와이디에이', 'goodsname': '베이직 기모 후드티셔츠_YD4H006LG', 'price': 69000, 'sales': 45900}, {'brand': '포더핏', 'goodsname': '크랙 피그먼트 오버핏 스웨트 셔츠_챠콜', 'price': 59900, 'sales': 59900}, {'brand': '에이전트픽', 'goodsname': 'AGP 크롭 크루넥 티 스카이 블루', 'price': 68000, 'sales': 40800}, {'brand': '하이야', 'goodsname': '스마일 패치 스프레이 크롭티, 옐로우', 'price': 88000, 'sales': 61600}, {'brand': '슬리피아이즈', 'goodsname': 'Ellipse Logo S/S - Green', 'price': 39000, 'sales': 33150}, {'brand': '한량', 'goodsname': 'HR® 0036 black wolf short sleeved tshirt yellow 반팔티', 'price': 35000, 'sales': 35000}, {'brand': '이스케이프프롬', 'goodsname': '핑크 프로그 프린트 오버핏 반팔티 화이트', 'price': 52000, 'sales': 29900}, {'brand': '오리지널데이', 'goodsname': 'Gothic Flower 반팔 티셔츠 [네이비]', 'price': 46000, 'sales': 26900}, {'brand': '레이버러스', 'goodsname': '사이드 스트링 티셔츠 스카이블루', 'price': 49000, 'sales': 49000}, {'brand': '스텝온리', 'goodsname': 'RUNING BIG LOGO TEE (WHITE-OLIVE)', 'price': 43000, 'sales': 30100}, {'brand': '리이', 'goodsname': 'LOGO SHORT SLEEVE TOP MIDNIGHT NAVY', 'price': 48000, 'sales': 43200}, {'brand': '엠더바스', 'goodsname': 'reach out 오버핏 스웨트셔츠(기모) -네이비', 'price': 67000, 'sales': 36900}, {'brand': '몬스터리퍼블릭', 'goodsname': '리얼페이스 애쉬그레이 화이트 티셔츠', 'price': 59000, 'sales': 27000}, {'brand': '어굿데이', 'goodsname': 'AGD RAINBOW 로고 티셔츠 (2COLOR)', 'price': 42000, 'sales': 42000}, {'brand': '드헤베', 'goodsname': 'Italic Logo T-shirt [Gray]', 'price': 42000, 'sales': 37800}, {'brand': '아스트랄 프로젝션', 'goodsname': '백 피지컬 트레블 라운드 넥 15수 면 반팔 티셔츠_블루 그린', 'price': 39000, 'sales': 19500}, {'brand': '엘라모', 'goodsname': '베이비베어 기본 반팔티셔츠 남녀공용 빅사이즈 XS~XL', 'price': 24800, 'sales': 24800}, {'brand': '크림소다랩', 'goodsname': 'LAB CRL 파쿠 서클 로고 반팔티 블랙', 'price': 39000, 'sales': 18900}, {'brand': '네네츠 어센틱', 'goodsname': 'DAYS ROUND POCKET S/S TEE ORANGE', 'price': 31900, 'sales': 24900}, {'brand': '유씨엘에이', 'goodsname': '남녀공용 에어 드라이 기능성 반팔 티셔츠[LT-BEIGE](UA6ST11_23)', 'price': 59000, 'sales': 29000}, {'brand': '그레이버', 'goodsname': '[UNISEX]보더 플라워 백로고 반팔티_네이비', 'price': 49000, 'sales': 34300}, {'brand': '엑시아', 'goodsname': '하트비트 반팔티 E04BRD_ABX10216', 'price': 28000, 'sales': 28000}, {'brand': '쿨트', 'goodsname': 'PALM VIBES T-SHIRT 라이트베이지', 'price': 45000, 'sales': 45000}, {'brand': '판도라핏', 'goodsname': 'Teenie Slit T-Shirt', 'price': 39000, 'sales': 39000}, {'brand': '아이스가든에이오공팔', 'goodsname': 'Floral Graphic T-shirt (Blue Lagoon)', 'price': 61000, 'sales': 61000}, {'brand': '비치스앤크림', 'goodsname': '[CROP FIT]SIMPLE LOGO SHORT SLEEVES-CHARCOAL', 'price': 35000, 'sales': 24500}, {'brand': '르아위', 'goodsname': 'JAEYI-H TSHIRT green', 'price': 59000, 'sales': 41300}, {'brand': '제네럴웍스', 'goodsname': 'N-GS-889 그래픽반팔티_(3color)', 'price': 21000, 'sales': 21000}, {'brand': '트립션', 'goodsname': 'TUXEDO CAT GRAPHIC 티셔츠 - 레드', 'price': 59000, 'sales': 34500}, {'brand': '리즈리스', 'goodsname': '왓더 X  반팔 티셔츠 [화이트]', 'price': 40000, 'sales': 40000}, {'brand': '핑크파인애플', 'goodsname': 'LACE LETTERING TS_YELLOW', 'price': 69000, 'sales': 69000}, {'brand': '스트리트 스탠다드', 'goodsname': 'GRADATION S/SLV T-SHIRTS', 'price': 29000, 'sales': 20300}, {'brand': '어썸어스', 'goodsname': '(23SS)Rich Bitches 반팔 티셔츠 화이트', 'price': 28000, 'sales': 28000}, {'brand': '드마크', 'goodsname': '오버핏 스퀘어 프린트 반팔 티셔츠 화이트', 'price': 49000, 'sales': 49000}, {'brand': '어퍼스트롭', 'goodsname': '[UP9601] SURF CLUB 비치 팜트리 티셔츠 화이트', 'price': 89000, 'sales': 55000}, {'brand': '웰터 익스페리먼트', 'goodsname': 'PRESPA T-SHIRT_LIGHT GRAY_WDT013', 'price': 98000, 'sales': 98000}, {'brand': '미니멈 에브리데이', 'goodsname': '물결 반하이넥 시스루 융털 비스코스 니트 (EA4KT003D)', 'price': 59000, 'sales': 15900}, {'brand': '기준 맨', 'goodsname': '[무료반품] Crest Half Zip-Up Pullover Dusty Blue', 'price': 188000, 'sales': 131600}, {'brand': '핀블랙', 'goodsname': 'PB LOGO T-SHIRTS YELLOW', 'price': 58000, 'sales': 58000}, {'brand': '플래그니크', 'goodsname': '유니섹스 익스트림 뽀빠이 반팔 티셔츠-베이지', 'price': 59000, 'sales': 23600}, {'brand': '상상발전소', 'goodsname': 'VANITAS 06_WHCH', 'price': 62000, 'sales': 62000}, {'brand': '랭썬', 'goodsname': 'LS_Long sleeve summer shirt', 'price': 112000, 'sales': 112000}, {'brand': '상상발전소', 'goodsname': 'VANITAS 01_WHCM', 'price': 55000, 'sales': 55000}, {'brand': '노드스튜디오', 'goodsname': 'OWL 그래픽 티셔츠_오프화이트', 'price': 39800, 'sales': 39800}, {'brand': '헌치', 'goodsname': 'Cutout knit top (2color)', 'price': 68000, 'sales': 68000}, {'brand': '포더핏', 'goodsname': '피그먼트 오버핏 스웨트 셔츠_챠콜', 'price': 56900, 'sales': 56900}, {'brand': '낫유즈얼', 'goodsname': '스몰폰트 맨투맨 [NAVY]', 'price': 53900, 'sales': 32340}, {'brand': '메이노브1722', 'goodsname': 'FLYING AGAIN ROCKET T-SHIRTS - DARK GRAY', 'price': 48000, 'sales': 33600}, {'brand': '2113 스튜디오', 'goodsname': 'EP.4 the sleeveless No.8 Violet', 'price': 39000, 'sales': 39000}, {'brand': '티브이오비티', 'goodsname': 'Preschool Sweatshirts WH/BK', 'price': 69000, 'sales': 55200}, {'brand': '온오프', 'goodsname': '여성 슬리브리스 티셔츠 OF9812LA_WHITE', 'price': 297000, 'sales': 148500}, {'brand': '세인트크루', 'goodsname': '커프 T로고 루즈핏 라운드넥 스웨트셔츠 LRS-833 화이트', 'price': 42000, 'sales': 38800}, {'brand': '왓에버위원트', 'goodsname': '[UNISEX] WHATEVERWEWANT T-SHIRT [NAVY]', 'price': 35000, 'sales': 35000}, {'brand': '페이퍼보이', 'goodsname': '크롭 러블리 반팔티셔츠-소프트핑크', 'price': 39000, 'sales': 29250}, {'brand': '이스케이프프롬', 'goodsname': '코랄 그래피티 ESCF 로고 프린트 크롭 티셔츠 화이트', 'price': 50000, 'sales': 29900}, {'brand': '그레이버', 'goodsname': '[UNISEX]스몰 베어 바디 스마일 반팔티_차콜', 'price': 44000, 'sales': 30800}, {'brand': '아스트랄 프로젝션', 'goodsname': '[미유 캣]코튼 루즈핏 반팔 티셔츠_더스티 민트', 'price': 49000, 'sales': 34300}, {'brand': '스텝온리', 'goodsname': 'FEUILLE TEE (WHITE)', 'price': 43000, 'sales': 30100}, {'brand': '뉴해빗', 'goodsname': 'N/H NUHABIT SNOW 반팔 (GBS2-3NH007)', 'price': 35000, 'sales': 24900}, {'brand': '탑걸', 'goodsname': 'HEART-SHAPED BALOON-PRINTED T-SHIRT_T416TP103', 'price': 56000, 'sales': 44800}, {'brand': '논로컬', 'goodsname': 'Emblem Logo T-shirt - Navy', 'price': 49000, 'sales': 46550}, {'brand': '레이쿠', 'goodsname': 'reiku back sym sangsang short white 반팔티', 'price': 34000, 'sales': 34000}, {'brand': '엘라모', 'goodsname': '잠긴달 반팔티셔츠 남녀공용 빅사이즈 S~4XL', 'price': 23760, 'sales': 23760}, {'brand': '클로어', 'goodsname': '[UNISEX] 퓨레떼 그래픽 반팔 티셔츠 (BLUE GREY)', 'price': 54000, 'sales': 32400}, {'brand': '디바인디스턴스', 'goodsname': '앤티쿼티 3D 프린트 티셔츠 [블랙]', 'price': 36000, 'sales': 36000}, {'brand': '왕관', 'goodsname': '피그먼트 포켓 BCT 오버핏 반팔 티셔츠 (Navy)', 'price': 60000, 'sales': 42000}, {'brand': '로씨로씨', 'goodsname': 'laurel wreath T-shirt [WHITE]', 'price': 45000, 'sales': 27000}, {'brand': '유씨엘에이', 'goodsname': '피그먼트 빅로고 반팔 티셔츠[BLUE](UA6ST12_43)', 'price': 59000, 'sales': 29000}, {'brand': '그레이버', 'goodsname': '[UNISEX]스몰 매치 플라워 스마일 반팔티_네이비', 'price': 42800, 'sales': 29960}, {'brand': '모스', 'goodsname': '실켓 자수 ½ 티셔츠_화이트', 'price': 44000, 'sales': 35200}, {'brand': '랩원오원', 'goodsname': 'LOGO LETTERING T-SHIRTS', 'price': 39000, 'sales': 29250}, {'brand': '2113 스튜디오', 'goodsname': '로고 포켓 티셔츠  핑크', 'price': 54000, 'sales': 54000}, {'brand': '로우타이드', 'goodsname': 'HAIRY SLEEVELESS KNIT TOP [IVORY]', 'price': 128000, 'sales': 128000}, {'brand': '트립션', 'goodsname': 'VENDING MACHINE GRAPHIC 티셔츠 - 레드', 'price': 59000, 'sales': 34500}, {'brand': '르아위', 'goodsname': 'JAEYI-P TSHIRT skyblue', 'price': 59000, 'sales': 41300}, {'brand': '한량', 'goodsname': 'HR® 0024 hug short sleeved tshirt pink 반팔티', 'price': 35000, 'sales': 35000}, {'brand': '어썸어스', 'goodsname': '(24SS) FRIENDLY FRIENDS WHITE T_SHIRTS', 'price': 28000, 'sales': 28000}, {'brand': '드리프트아웃', 'goodsname': 'CHU-050 아이비리그 슈트', 'price': 35000, 'sales': 19900}, {'brand': '레이버러스', 'goodsname': '쉐입 로고 슬림 스판 티셔츠 핑크', 'price': 39000, 'sales': 39000}, {'brand': '비엔엑스', 'goodsname': '피그먼트 레이어드 융기모 맨투맨 (BW4TS027L0)', 'price': 99000, 'sales': 33900}, {'brand': '칠스포츠클럽', 'goodsname': '파 티 화이트', 'price': 48000, 'sales': 48000}, {'brand': '엠엠아이씨', 'goodsname': 'VANISHER OVERFIT T-SHIRT BK', 'price': 83000, 'sales': 45650}, {'brand': '아스트랄 프로젝션', 'goodsname': '빅 하트 로고 라운드 넥 15수 면 반팔 티셔츠_체다', 'price': 39000, 'sales': 19500}, {'brand': '상상발전소', 'goodsname': 'COLLAGE 03_WHCH', 'price': 62000, 'sales': 62000}, {'brand': '닉앤니콜', 'goodsname': '90S MID LINE REGULAR TEE_NAVY', 'price': 39000, 'sales': 35100}, {'brand': '원헌드레드퍼센트', 'goodsname': 'OHPxGOODD4 b레게파티 크루넥 긴팔티셔츠', 'price': 68000, 'sales': 68000}, {'brand': '에이치덱스', 'goodsname': '우먼스 소프트 캡슬리브 탱크탑 (Black)', 'price': 36000, 'sales': 36000}, {'brand': '쥬시쥬디', 'goodsname': 'J오버핏아웃포켓셔츠 JYWS721B', 'price': 169000, 'sales': 152100}, {'brand': '스플래시코드', 'goodsname': '반팔 티셔츠 화이트 - 앤티크(Antique)', 'price': 52000, 'sales': 36400}, {'brand': '커버낫', 'goodsname': 'C 로고 럭비 맨투맨 그린', 'price': 79000, 'sales': 54900}, {'brand': '블랙블론드', 'goodsname': '비비디 디에퍼리션 티셔츠 (블랙)', 'price': 58000, 'sales': 58000}, {'brand': '플레이블', 'goodsname': '체크로고 반팔 티셔츠 MW3ME184', 'price': 78000, 'sales': 39000}, {'brand': '프로스펙스', 'goodsname': '[무료반품] 스트라이프 반팔 티셔츠 MT-X451', 'price': 79000, 'sales': 39500}, {'brand': '유씨엘에이', 'goodsname': '크라켓 스웨터 [NAVY](UYALK10_45)', 'price': 59000, 'sales': 19000}, {'brand': '포더핏', 'goodsname': '로고 피그먼트 오버핏 스웨트 셔츠_챠콜', 'price': 59900, 'sales': 59900}, {'brand': '리이', 'goodsname': 'SHIRRING DRAPE LONG SLEEVE TOP MELANGE GRAY', 'price': 76000, 'sales': 68400}, {'brand': '브롬톤 런던', 'goodsname': '1975 FRONT BICYCLE PRINT T-SHIRT - IVORY (P242UTS421)', 'price': 109000, 'sales': 109000}, {'brand': '바켄', 'goodsname': 'Episode 1 반팔티셔츠 BK3985_크림', 'price': 59900, 'sales': 39900}, {'brand': '몬스터리퍼블릭', 'goodsname': '믹스홀릭 그린 오버핏 맨투맨 멜란지그레이', 'price': 54000, 'sales': 34000}, {'brand': '프렌다', 'goodsname': 'BEADED APPLIQUE SWEATSHIRT WHITE', 'price': 69000, 'sales': 23900}, {'brand': '큐클리프', 'goodsname': '[W] Line Logo T-Shirt (White)', 'price': 52000, 'sales': 52000}, {'brand': '프렌다', 'goodsname': 'PCF CREW NECK SWEATSHIRT BABY BLUE', 'price': 49000, 'sales': 19900}, {'brand': '케이투', 'goodsname': 'OLA 그래픽 라운드 (ECO)_SMOKE DARK BLUE', 'price': 99000, 'sales': 99000}, {'brand': '아르마니 익스체인지', 'goodsname': '남성 엠브로이더리 이글 티셔츠 _오프 화이트_A414130018', 'price': 100000, 'sales': 60000}, {'brand': '고목', 'goodsname': '고목 티셔츠', 'price': 79000, 'sales': 79000}, {'brand': '앤디아더', 'goodsname': '네이비 별 아플리케 루즈 스웻셔츠', 'price': 89000, 'sales': 44500}, {'brand': '테스터먼트', 'goodsname': 'Button Collar Short Sleeve knit (Black)', 'price': 52000, 'sales': 46800}, {'brand': '이스케이프프롬', 'goodsname': '블루 버닝 시티 티셔츠 화이트', 'price': 52000, 'sales': 29900}, {'brand': '유에스 폴로 어신', 'goodsname': '화이트라벨 SPRING PQ 티셔츠_PURPLE', 'price': 69000, 'sales': 58650}, {'brand': '아스트랄 프로젝션', 'goodsname': '[스테이 와일드]코튼 루즈핏 반팔 티셔츠_더스티 민트', 'price': 49000, 'sales': 34300}]\n"
     ]
    }
   ],
   "source": [
    "import requests\n",
    "from bs4 import BeautifulSoup\n",
    "import json\n",
    "\n",
    "targetpage=10\n",
    "pages=range(1,targetpage+1)\n",
    "\n",
    "result=[]\n",
    "for page in pages:\n",
    "    URL='https://api.musinsa.com/api2/dp/v1/plp/goods?gf=A&category=001&caller=CATEGORY&page={}&size=30'.format(page)\n",
    "\n",
    "    response=requests.get(URL, headers={'User-Agent':'Mozilla 5.0'})\n",
    "    res_json=json.loads(response.text)\n",
    "    goods=res_json['data']['list']\n",
    "    for good in goods:\n",
    "        #brand good originprice salesprice\n",
    "        brand = good['brandName']\n",
    "        goodsname = good['goodsName']\n",
    "        normal = good['normalPrice']\n",
    "        sales = good['price']\n",
    "        result.append({'brand' : brand, 'goodsname' : goodsname, 'price' : normal, 'sales' : sales})\n",
    "\n",
    "print(result)\n",
    "    \n"
   ]
  }
 ],
 "metadata": {
  "kernelspec": {
   "display_name": "base",
   "language": "python",
   "name": "python3"
  },
  "language_info": {
   "codemirror_mode": {
    "name": "ipython",
    "version": 3
   },
   "file_extension": ".py",
   "mimetype": "text/x-python",
   "name": "python",
   "nbconvert_exporter": "python",
   "pygments_lexer": "ipython3",
   "version": "3.12.7"
  }
 },
 "nbformat": 4,
 "nbformat_minor": 2
}
