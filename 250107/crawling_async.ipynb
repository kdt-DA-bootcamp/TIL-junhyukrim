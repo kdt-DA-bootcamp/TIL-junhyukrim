{
 "cells": [
  {
   "cell_type": "code",
   "execution_count": 2,
   "metadata": {},
   "outputs": [],
   "source": [
    "import requests"
   ]
  },
  {
   "cell_type": "code",
   "execution_count": 3,
   "metadata": {},
   "outputs": [
    {
     "data": {
      "text/plain": [
       "(200, -1)"
      ]
     },
     "execution_count": 3,
     "metadata": {},
     "output_type": "execute_result"
    }
   ],
   "source": [
    "URL = 'http://www.cine21.com/rank/boxoffice/domestic'\n",
    "\n",
    "res = requests.get(URL, headers = {'User-Agent': \"Mozilla 5.0\"})\n",
    "res.status_code, res.text.find('보고타')"
   ]
  },
  {
   "cell_type": "code",
   "execution_count": 4,
   "metadata": {},
   "outputs": [
    {
     "name": "stdout",
     "output_type": "stream",
     "text": [
      "<div id=\"boxoffice_list_content\">\n",
      "</div>\n"
     ]
    }
   ],
   "source": [
    "from bs4 import BeautifulSoup\n",
    "\n",
    "soup = BeautifulSoup(res.text, 'html.parser')\n",
    "# Web 1은 빈 깡통 HTML을 보내준다.\n",
    "print( soup.select_one('#boxoffice_list_content') )"
   ]
  },
  {
   "cell_type": "code",
   "execution_count": 5,
   "metadata": {},
   "outputs": [
    {
     "data": {
      "text/plain": [
       "(200, 1074)"
      ]
     },
     "execution_count": 5,
     "metadata": {},
     "output_type": "execute_result"
    }
   ],
   "source": [
    "# Web2로 요청 보내는 방법을 확인. 개발자도구 - [Network]\n",
    "URL = 'http://www.cine21.com/rank/boxoffice/domestic_content'\n",
    "\n",
    "res = requests.post(URL, headers={\n",
    "    'content-type': 'application/x-www-form-urlencoded; charset=UTF-8'\n",
    "}, data={\n",
    "    'page': 1,\n",
    "    'genre': 'all',\n",
    "    'period': '2024-12-31'\n",
    "})\n",
    "\n",
    "res.status_code, res.text.find('보고타')"
   ]
  },
  {
   "cell_type": "code",
   "execution_count": 7,
   "metadata": {},
   "outputs": [
    {
     "name": "stdout",
     "output_type": "stream",
     "text": [
      "a태그 /movie/info/?movie_id=61175\n",
      "이미지 https://image.cine21.com/resize/cine21/poster/2025/0106/16_02_09__677b7ff1263c5[X224,320].jpg\n",
      "이름 하얼빈\n",
      "누적 누적관객수3,728,562\n",
      "a태그 /movie/info/?movie_id=57542\n",
      "이미지 https://image.cine21.com/resize/cine21/poster/2024/1231/11_21_12__67735518b0313[X224,320].jpg\n",
      "이름 보고타: 마지막 기회의 땅\n",
      "누적 누적관객수336,135\n",
      "a태그 /movie/info/?movie_id=56448\n",
      "이미지 https://image.cine21.com/resize/cine21/poster/2024/1205/15_02_07__675141dfba172[X224,320].jpg\n",
      "이름 소방관\n",
      "누적 누적관객수3,489,395\n",
      "a태그 /movie/info/?movie_id=61738\n",
      "이미지 https://image.cine21.com/resize/cine21/poster/2025/0102/13_55_23__67761c3b88ab6[X224,320].jpg\n",
      "이름 수퍼 소닉3\n",
      "누적 누적관객수204,739\n",
      "a태그 /movie/info/?movie_id=61853\n",
      "이미지 https://image.cine21.com/resize/cine21/poster/2024/1119/17_05_30__673c46ca60676[X224,320].jpg\n",
      "이름 뽀로로 극장판 바닷속 대모험\n",
      "누적 누적관객수201,416\n",
      "a태그 /movie/info/?movie_id=61487\n",
      "이미지 https://image.cine21.com/resize/cine21/poster/2024/1206/13_38_12__67527fb46971a[X224,320].jpg\n",
      "이름 무파사: 라이온 킹\n",
      "누적 누적관객수762,054\n",
      "a태그 /movie/info/?movie_id=61558\n",
      "이미지 https://image.cine21.com/resize/cine21/poster/2024/1128/13_37_57__6747f3a5f240c[X224,320].jpg\n",
      "이름 모아나 2\n",
      "누적 누적관객수3,433,796\n",
      "a태그 /movie/info/?movie_id=61854\n",
      "이미지 https://image.cine21.com/resize/cine21/poster/2024/1219/10_33_43__676377f7d4bd0[X224,320].jpg\n",
      "이름 극장판 짱구는 못말려: 우리들의 공룡일기\n",
      "누적 누적관객수651,895\n",
      "a태그 /movie/info/?movie_id=61119\n",
      "이미지 https://image.cine21.com/resize/cine21/poster/2024/1231/11_48_32__67735b808ba51[X224,320].jpg\n",
      "이름 시빌 워: 분열의 시대\n",
      "누적 누적관객수84,540\n",
      "a태그 /movie/info/?movie_id=61244\n",
      "이미지 https://image.cine21.com/resize/cine21/poster/2024/1125/18_01_54__67443d022a0ba[X224,320].jpg\n",
      "이름 위키드\n",
      "누적 누적관객수2,106,677\n",
      "a태그 /movie/info/?movie_id=2676\n",
      "이미지 https://image.cine21.com/resize/cine21/poster/2024/1206/14_53_23__675291532f8b6[X224,320].jpg\n",
      "이름 러브레터\n",
      "누적 누적관객수184,517\n",
      "a태그 /movie/info/?movie_id=61579\n",
      "이미지 https://image.cine21.com/resize/cine21/poster/2024/1212/10_03_46__675a36727fa85[X224,320].jpg\n",
      "이름 서브스턴스\n",
      "누적 누적관객수171,904\n",
      "a태그 /movie/info/?movie_id=61884\n",
      "이미지 https://image.cine21.com/resize/cine21/poster/2024/1206/14_37_53__67528db1514c9[X224,320].jpg\n",
      "이름 더 폴: 디렉터스 컷\n",
      "누적 누적관객수44,231\n",
      "a태그 /movie/info/?movie_id=28917\n",
      "이미지 https://image.cine21.com/resize/cine21/poster/2024/1217/13_23_25__6760fcbd5327a[X224,320].jpg\n",
      "이름 해리 포터와 죽음의 성물1\n",
      "누적 누적관객수2,895,092\n",
      "a태그 /movie/info/?movie_id=59945\n",
      "이미지 https://image.cine21.com/resize/cine21/poster/2024/1223/11_27_10__6768ca7e03525[X224,320].jpg\n",
      "이름 더 퍼스트 슬램덩크\n",
      "누적 누적관객수4,885,921\n",
      "a태그 /movie/info/?movie_id=61863\n",
      "이미지 https://image.cine21.com/resize/cine21/poster/2024/1122/17_46_55__674044ff8498d[X224,320].jpg\n",
      "이름 니코: 오로라 원정대의 모험\n",
      "누적 누적관객수56,859\n",
      "a태그 /movie/info/?movie_id=61860\n",
      "이미지 https://image.cine21.com/resize/cine21/poster/2024/1205/14_48_39__67513eb720ed9[X224,320].jpg\n",
      "이름 이처럼 사소한 것들\n",
      "누적 누적관객수42,894\n",
      "a태그 /movie/info/?movie_id=8724\n",
      "이미지 https://image.cine21.com/resize/cine21/poster/2015/0921/8724_55ffb3ebae83f_poster_web_main[X224,320].jpg\n",
      "이름 이터널 선샤인\n",
      "누적 누적관객수549,635\n",
      "a태그 /movie/info/?movie_id=61760\n",
      "이미지 https://image.cine21.com/resize/cine21/poster/2024/1217/14_36_33__67610de147ec2[X224,320].jpg\n",
      "이름 대가족\n",
      "누적 누적관객수301,214\n",
      "a태그 /movie/info/?movie_id=21799\n",
      "이미지 https://image.cine21.com/resize/cine21/movie/2024/1212/18_28_28__675aacbcc25be[X224,320].jpg\n",
      "이름 색, 계\n",
      "누적 누적관객수1,930,589\n"
     ]
    }
   ],
   "source": [
    "res.text # HTML 형태 -> 어떤 라이브러리?\n",
    "soup = BeautifulSoup(res.text, 'html.parser')\n",
    "\n",
    "movies = soup.select('.boxoffice_li')\n",
    "for movie in movies:\n",
    "    a_tag = movie.select_one('a')\n",
    "    img_tag = movie.select_one('img')\n",
    "    name_tag = movie.select_one('.mov_name')\n",
    "    num_tag = movie.select('.over>.info>li')[1]\n",
    "\n",
    "    print('a태그', a_tag.attrs['href'])\n",
    "    print('이미지', img_tag.attrs['src'])\n",
    "    print('이름', name_tag.text)\n",
    "    print('누적', num_tag.text)"
   ]
  },
  {
   "cell_type": "code",
   "execution_count": 34,
   "metadata": {},
   "outputs": [
    {
     "ename": "IndexError",
     "evalue": "list index out of range",
     "output_type": "error",
     "traceback": [
      "\u001b[1;31m---------------------------------------------------------------------------\u001b[0m",
      "\u001b[1;31mIndexError\u001b[0m                                Traceback (most recent call last)",
      "Cell \u001b[1;32mIn[34], line 15\u001b[0m\n\u001b[0;32m     13\u001b[0m \u001b[38;5;28;01mfor\u001b[39;00m i \u001b[38;5;129;01min\u001b[39;00m \u001b[38;5;28mrange\u001b[39m(\u001b[38;5;241m0\u001b[39m,\u001b[38;5;241m10\u001b[39m):\n\u001b[0;32m     14\u001b[0m     temp\u001b[38;5;241m=\u001b[39m{}\n\u001b[1;32m---> 15\u001b[0m     temp[\u001b[38;5;124m'\u001b[39m\u001b[38;5;124m제목\u001b[39m\u001b[38;5;124m'\u001b[39m]\u001b[38;5;241m=\u001b[39mres_json[\u001b[38;5;124m'\u001b[39m\u001b[38;5;124mdata\u001b[39m\u001b[38;5;124m'\u001b[39m][\u001b[38;5;124m'\u001b[39m\u001b[38;5;124mcontents\u001b[39m\u001b[38;5;124m'\u001b[39m][i][\u001b[38;5;124m'\u001b[39m\u001b[38;5;124mtitle\u001b[39m\u001b[38;5;124m'\u001b[39m]\n\u001b[0;32m     16\u001b[0m     temp[\u001b[38;5;124m'\u001b[39m\u001b[38;5;124m날짜\u001b[39m\u001b[38;5;124m'\u001b[39m]\u001b[38;5;241m=\u001b[39mres_json[\u001b[38;5;124m'\u001b[39m\u001b[38;5;124mdata\u001b[39m\u001b[38;5;124m'\u001b[39m][\u001b[38;5;124m'\u001b[39m\u001b[38;5;124mcontents\u001b[39m\u001b[38;5;124m'\u001b[39m][i][\u001b[38;5;124m'\u001b[39m\u001b[38;5;124mcreateDateTime\u001b[39m\u001b[38;5;124m'\u001b[39m]\n\u001b[0;32m     17\u001b[0m     results\u001b[38;5;241m.\u001b[39mappend(temp)\n",
      "\u001b[1;31mIndexError\u001b[0m: list index out of range"
     ]
    }
   ],
   "source": [
    "import requests\n",
    "from bs4 import BeautifulSoup\n",
    "import json\n",
    "\n",
    "pages= [0,1,2]\n",
    "results=[]\n",
    "for page in pages:\n",
    "    URL='http://didimteo.startup-plus.kr/api/cportal/board?size=10&page={}&portalSeqNo=327&boardId=B000125&title='.format(page)\n",
    "    \n",
    "    response=requests.get(URL)\n",
    "    res_json=json.loads(response.text)\n",
    "    \n",
    "    print(len(res_json['data']['contents']))\n",
    "    for i in range(0,10):\n",
    "        temp={}\n",
    "        temp['제목']=res_json['data']['contents'][i]['title']\n",
    "        temp['날짜']=res_json['data']['contents'][i]['createDateTime']\n",
    "        results.append(temp)\n",
    "    \n",
    "print(results)\n",
    "\n",
    "    \n",
    "    # soup=BeautifulSoup(response.text, 'html.parser')\n",
    "    # tbody_tag=soup.select_one('tbody')\n"
   ]
  },
  {
   "cell_type": "code",
   "execution_count": 10,
   "metadata": {},
   "outputs": [
    {
     "ename": "AttributeError",
     "evalue": "'Response' object has no attribute 'select_one'",
     "output_type": "error",
     "traceback": [
      "\u001b[1;31m---------------------------------------------------------------------------\u001b[0m",
      "\u001b[1;31mAttributeError\u001b[0m                            Traceback (most recent call last)",
      "Cell \u001b[1;32mIn[10], line 1\u001b[0m\n\u001b[1;32m----> 1\u001b[0m tbody_tag\u001b[38;5;241m=\u001b[39mresponse\u001b[38;5;241m.\u001b[39mselect_one(\u001b[38;5;124m'\u001b[39m\u001b[38;5;124mtbody\u001b[39m\u001b[38;5;124m'\u001b[39m)\n",
      "\u001b[1;31mAttributeError\u001b[0m: 'Response' object has no attribute 'select_one'"
     ]
    }
   ],
   "source": []
  }
 ],
 "metadata": {
  "kernelspec": {
   "display_name": "base",
   "language": "python",
   "name": "python3"
  },
  "language_info": {
   "codemirror_mode": {
    "name": "ipython",
    "version": 3
   },
   "file_extension": ".py",
   "mimetype": "text/x-python",
   "name": "python",
   "nbconvert_exporter": "python",
   "pygments_lexer": "ipython3",
   "version": "3.12.7"
  }
 },
 "nbformat": 4,
 "nbformat_minor": 2
}
